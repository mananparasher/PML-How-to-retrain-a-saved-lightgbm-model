{
 "cells": [
  {
   "cell_type": "markdown",
   "metadata": {
    "ExecuteTime": {
     "end_time": "2020-07-27T18:51:14.052405Z",
     "start_time": "2020-07-27T18:51:14.044434Z"
    },
    "colab_type": "text",
    "id": "3kKsf3EdCelx"
   },
   "source": [
    "## Import Libraries"
   ]
  },
  {
   "cell_type": "code",
   "execution_count": null,
   "metadata": {
    "ExecuteTime": {
     "end_time": "2020-07-27T18:51:25.195768Z",
     "start_time": "2020-07-27T18:51:25.189766Z"
    },
    "colab": {},
    "colab_type": "code",
    "id": "7V-_KURLCelz"
   },
   "outputs": [],
   "source": [
    "import lightgbm as lgb\n",
    "import numpy as np \n",
    "import matplotlib.pyplot as plt\n",
    "from sklearn.model_selection import train_test_split\n",
    "from sklearn.datasets import load_digits\n",
    "from sklearn.metrics import classification_report"
   ]
  },
  {
   "cell_type": "markdown",
   "metadata": {
    "ExecuteTime": {
     "end_time": "2020-07-27T18:51:44.277035Z",
     "start_time": "2020-07-27T18:51:44.269032Z"
    },
    "colab_type": "text",
    "id": "9Er7D-9cCel3"
   },
   "source": [
    "## Download Dataset"
   ]
  },
  {
   "cell_type": "code",
   "execution_count": null,
   "metadata": {
    "ExecuteTime": {
     "end_time": "2020-07-27T18:41:38.899624Z",
     "start_time": "2020-07-27T18:41:38.774433Z"
    },
    "colab": {},
    "colab_type": "code",
    "id": "j8ay7o7JCel4"
   },
   "outputs": [],
   "source": [
    "digits = load_digits()"
   ]
  },
  {
   "cell_type": "markdown",
   "metadata": {
    "colab_type": "text",
    "id": "snp1a9uHCel7"
   },
   "source": [
    "## Explore Dataset"
   ]
  },
  {
   "cell_type": "code",
   "execution_count": null,
   "metadata": {
    "ExecuteTime": {
     "end_time": "2020-07-27T18:41:40.142419Z",
     "start_time": "2020-07-27T18:41:39.585454Z"
    },
    "colab": {},
    "colab_type": "code",
    "id": "l6_4FcV7Cel7",
    "outputId": "f48141c1-cffc-49d9-9eb7-41b811488445"
   },
   "outputs": [
    {
     "data": {
      "image/png": "[encoded data removed]",
      "text/plain": [
       "<Figure size 288x288 with 5 Axes>"
      ]
     },
     "metadata": {
      "needs_background": "light",
      "tags": []
     },
     "output_type": "display_data"
    }
   ],
   "source": [
    "plt.figure(figsize=(4,4))\n",
    "for value, (images, labels) in enumerate(zip(digits.data[0:5], digits.target[0:5])):\n",
    "    plt.subplot(1, 5, value + 1)\n",
    "    plt.imshow(np.reshape(images, (8,8)))\n",
    "    plt.title('%i\\n' % labels)"
   ]
  },
  {
   "cell_type": "markdown",
   "metadata": {
    "colab_type": "text",
    "id": "ynyi9m7TCel_"
   },
   "source": [
    "## Split Dataset"
   ]
  },
  {
   "cell_type": "code",
   "execution_count": null,
   "metadata": {
    "ExecuteTime": {
     "end_time": "2020-07-27T18:42:50.781441Z",
     "start_time": "2020-07-27T18:42:50.770438Z"
    },
    "colab": {},
    "colab_type": "code",
    "id": "3I-rvfmpCel_"
   },
   "outputs": [],
   "source": [
    "X_train, X_test, y_train, y_test = train_test_split(digits.data, digits.target, test_size=0.01, random_state=0)\n",
    "X_train,X_train_2, y_train, X_test_2 = train_test_split(digits.data, digits.target, test_size=0.5, random_state=0)"
   ]
  },
  {
   "cell_type": "markdown",
   "metadata": {
    "colab_type": "text",
    "id": "dcXAQMkxCemC"
   },
   "source": [
    "## Set Parameters for LightGBM Model"
   ]
  },
  {
   "cell_type": "code",
   "execution_count": null,
   "metadata": {
    "ExecuteTime": {
     "end_time": "2020-07-27T18:59:21.046681Z",
     "start_time": "2020-07-27T18:59:21.039687Z"
    },
    "colab": {},
    "colab_type": "code",
    "id": "7H0GKEHzCemD"
   },
   "outputs": [],
   "source": [
    "params={}\n",
    "params['learning_rate']=0.04\n",
    "params['boosting_type']='gbdt' \n",
    "params['objective']='multiclass'\n",
    "params['metric']='multi_logloss'\n",
    "params['max_depth']=10\n",
    "params['num_class']=10 "
   ]
  },
  {
   "cell_type": "markdown",
   "metadata": {
    "colab_type": "text",
    "id": "q821328-CemF"
   },
   "source": [
    "## Create LightGBM Dataset"
   ]
  },
  {
   "cell_type": "code",
   "execution_count": null,
   "metadata": {
    "ExecuteTime": {
     "end_time": "2020-07-27T18:43:00.119400Z",
     "start_time": "2020-07-27T18:43:00.113399Z"
    },
    "colab": {},
    "colab_type": "code",
    "id": "_xqlmdwmCemF"
   },
   "outputs": [],
   "source": [
    "training_dataset=lgb.Dataset(X_train, label=y_train)\n",
    "testing_dataset=lgb.Dataset(X_test, label=y_test)\n",
    "retrain_dataset=lgb.Dataset(X_train_2, label=X_test_2)"
   ]
  },
  {
   "cell_type": "markdown",
   "metadata": {
    "colab_type": "text",
    "id": "iz9VvLr9CemJ"
   },
   "source": [
    "## Model Training and Prediction"
   ]
  },
  {
   "cell_type": "code",
   "execution_count": null,
   "metadata": {
    "ExecuteTime": {
     "end_time": "2020-07-27T19:02:11.424880Z",
     "start_time": "2020-07-27T19:02:09.733871Z"
    },
    "colab": {},
    "colab_type": "code",
    "id": "GzR8MbljCemL",
    "outputId": "2b3e8c9e-685d-40cb-de6f-55b7b41085eb"
   },
   "outputs": [
    {
     "data": {
      "text/plain": [
       "array([[0.00405166, 0.00658429, 0.95409323, 0.00627828, 0.00469164,\n",
       "        0.00338217, 0.00416245, 0.0046908 , 0.00748076, 0.00458471],\n",
       "       [0.00455854, 0.00466347, 0.00469425, 0.0114405 , 0.01377625,\n",
       "        0.00546154, 0.00578554, 0.00513445, 0.93873706, 0.00574841],\n",
       "       [0.00290678, 0.00321077, 0.96361602, 0.00319144, 0.00337572,\n",
       "        0.00966767, 0.00298332, 0.00325026, 0.00335516, 0.00444285],\n",
       "       [0.01612169, 0.01642146, 0.01541224, 0.01630892, 0.02338259,\n",
       "        0.03986833, 0.79762928, 0.0181264 , 0.03451398, 0.02221512],\n",
       "       [0.00349806, 0.00364628, 0.00337764, 0.00357948, 0.00451804,\n",
       "        0.00561582, 0.96502438, 0.00397238, 0.00328345, 0.00348446]])"
      ]
     },
     "execution_count": 30,
     "metadata": {
      "tags": []
     },
     "output_type": "execute_result"
    }
   ],
   "source": [
    "classifier=lgb.train(params,training_dataset,100)\n",
    "y_predictions=classifier.predict(X_test)\n",
    "y_predictions[:5]"
   ]
  },
  {
   "cell_type": "markdown",
   "metadata": {
    "colab_type": "text",
    "id": "q1AXqUYSCemR"
   },
   "source": [
    "## Rounding Predictions"
   ]
  },
  {
   "cell_type": "code",
   "execution_count": null,
   "metadata": {
    "ExecuteTime": {
     "end_time": "2020-07-27T18:43:06.499014Z",
     "start_time": "2020-07-27T18:43:06.490023Z"
    },
    "colab": {},
    "colab_type": "code",
    "id": "Q7uX5PNQCemR",
    "outputId": "a8d2eb18-d4d3-416c-fa46-5ef147a8d33a"
   },
   "outputs": [
    {
     "data": {
      "text/plain": [
       "[2, 8, 2, 6, 6, 7, 1, 9, 8, 5]"
      ]
     },
     "execution_count": 16,
     "metadata": {
      "tags": []
     },
     "output_type": "execute_result"
    }
   ],
   "source": [
    "y_predictions_2 = [np.argmax(value) for value in y_predictions]\n",
    "y_predictions_2[:10]"
   ]
  },
  {
   "cell_type": "markdown",
   "metadata": {
    "colab_type": "text",
    "id": "kX_K2uG1CemU"
   },
   "source": [
    "## Classfication Report"
   ]
  },
  {
   "cell_type": "code",
   "execution_count": null,
   "metadata": {
    "ExecuteTime": {
     "end_time": "2020-07-27T18:43:17.361082Z",
     "start_time": "2020-07-27T18:43:17.338118Z"
    },
    "colab": {},
    "colab_type": "code",
    "id": "Rmqc6MhgCemV",
    "outputId": "a31f0f4f-1d41-496b-9dd8-e6f4d94a9b04"
   },
   "outputs": [
    {
     "name": "stdout",
     "output_type": "stream",
     "text": [
      "              precision    recall  f1-score   support\n",
      "\n",
      "           0       1.00      1.00      1.00         1\n",
      "           1       1.00      1.00      1.00         2\n",
      "           2       1.00      1.00      1.00         3\n",
      "           5       1.00      1.00      1.00         1\n",
      "           6       1.00      1.00      1.00         6\n",
      "           7       1.00      1.00      1.00         1\n",
      "           8       1.00      1.00      1.00         3\n",
      "           9       1.00      1.00      1.00         1\n",
      "\n",
      "    accuracy                           1.00        18\n",
      "   macro avg       1.00      1.00      1.00        18\n",
      "weighted avg       1.00      1.00      1.00        18\n",
      "\n"
     ]
    }
   ],
   "source": [
    "print(classification_report(y_predictions_2,y_test))"
   ]
  },
  {
   "cell_type": "markdown",
   "metadata": {
    "colab_type": "text",
    "id": "EoiGA1foCemY"
   },
   "source": [
    "## Save LightGBM Model "
   ]
  },
  {
   "cell_type": "code",
   "execution_count": null,
   "metadata": {
    "ExecuteTime": {
     "end_time": "2020-07-27T18:43:24.909417Z",
     "start_time": "2020-07-27T18:43:24.788414Z"
    },
    "colab": {},
    "colab_type": "code",
    "id": "6s_9mN9SCemY",
    "outputId": "19af8cae-e3d8-47bf-82c9-7d91e681f43a"
   },
   "outputs": [
    {
     "data": {
      "text/plain": [
       "<lightgbm.basic.Booster at 0x20c25319b48>"
      ]
     },
     "execution_count": 18,
     "metadata": {
      "tags": []
     },
     "output_type": "execute_result"
    }
   ],
   "source": [
    "classifier.save_model('lightgbclassifier.txt')"
   ]
  },
  {
   "cell_type": "markdown",
   "metadata": {
    "colab_type": "text",
    "id": "eAzhfUQfCemc"
   },
   "source": [
    "## Load Saved Model "
   ]
  },
  {
   "cell_type": "code",
   "execution_count": null,
   "metadata": {
    "ExecuteTime": {
     "end_time": "2020-07-27T18:43:26.097425Z",
     "start_time": "2020-07-27T18:43:26.009428Z"
    },
    "colab": {},
    "colab_type": "code",
    "id": "29oHvdwTCemd"
   },
   "outputs": [],
   "source": [
    "model = lgb.Booster(model_file='lightgbclassifier.txt')"
   ]
  },
  {
   "cell_type": "code",
   "execution_count": null,
   "metadata": {
    "ExecuteTime": {
     "end_time": "2020-07-27T18:43:48.519134Z",
     "start_time": "2020-07-27T18:43:48.513129Z"
    },
    "colab": {},
    "colab_type": "code",
    "id": "4mBMVcMxCemf",
    "outputId": "03a6bdb2-109a-44de-b2cd-074af0180d25"
   },
   "outputs": [
    {
     "name": "stdout",
     "output_type": "stream",
     "text": [
      "Option 1 current iter# 100\n"
     ]
    }
   ],
   "source": [
    "print(\"Current Iteration# %d\" %model.current_iteration())"
   ]
  },
  {
   "cell_type": "markdown",
   "metadata": {
    "colab_type": "text",
    "id": "CoPGpQpHCemi"
   },
   "source": [
    "## Retrain Model"
   ]
  },
  {
   "cell_type": "code",
   "execution_count": null,
   "metadata": {
    "ExecuteTime": {
     "end_time": "2020-07-27T18:43:38.254481Z",
     "start_time": "2020-07-27T18:43:36.642525Z"
    },
    "colab": {},
    "colab_type": "code",
    "id": "8hBmvYhkCemj"
   },
   "outputs": [],
   "source": [
    "claasifier_retrain = lgb.train(params, retrain_dataset, num_boost_round = 100,\n",
    "                init_model=model)"
   ]
  },
  {
   "cell_type": "code",
   "execution_count": null,
   "metadata": {
    "ExecuteTime": {
     "end_time": "2020-07-27T19:11:37.855369Z",
     "start_time": "2020-07-27T19:11:37.848390Z"
    },
    "colab": {},
    "colab_type": "code",
    "id": "W_xWb1oFCemm",
    "outputId": "70e44b8f-cf8d-491d-95a1-bb93fb9890db"
   },
   "outputs": [
    {
     "name": "stdout",
     "output_type": "stream",
     "text": [
      "Retrained Model Iteration# 200\n"
     ]
    }
   ],
   "source": [
    "print(\"Retrained Model Iteration# %d\" %claasifier_retrain.current_iteration())"
   ]
  },
  {
   "cell_type": "markdown",
   "metadata": {
    "colab_type": "text",
    "id": "arnJBTqUCemo"
   },
   "source": [
    "## Feature Importance"
   ]
  },
  {
   "cell_type": "code",
   "execution_count": null,
   "metadata": {
    "ExecuteTime": {
     "end_time": "2020-07-27T18:43:53.456732Z",
     "start_time": "2020-07-27T18:43:52.810728Z"
    },
    "colab": {},
    "colab_type": "code",
    "id": "vsDQLNUDCemo",
    "outputId": "ffea4171-8c30-4cb9-c3d0-548146715fbc"
   },
   "outputs": [
    {
     "data": {
      "text/plain": [
       "<matplotlib.axes._subplots.AxesSubplot at 0x20c25319508>"
      ]
     },
     "execution_count": 24,
     "metadata": {
      "tags": []
     },
     "output_type": "execute_result"
    },
    {
     "data": {
      "image/png": "[encoded data removed]",
      "text/plain": [
       "<Figure size 1440x720 with 1 Axes>"
      ]
     },
     "metadata": {
      "needs_background": "light",
      "tags": []
     },
     "output_type": "display_data"
    }
   ],
   "source": [
    "fig, ax = plt.subplots(figsize=(20, 10))\n",
    "lgb.plot_importance(claasifier_retrain,ax=ax)"
   ]
  },
  {
   "cell_type": "code",
   "execution_count": null,
   "metadata": {
    "colab": {},
    "colab_type": "code",
    "id": "VSoB8h2kCemt"
   },
   "outputs": [],
   "source": []
  }
 ],
 "metadata": {
  "colab": {
   "collapsed_sections": [],
   "name": "Retrain ightgbm model.ipynb",
   "provenance": []
  },
  "kernelspec": {
   "display_name": "Python 3",
   "language": "python",
   "name": "python3"
  },
  "language_info": {
   "codemirror_mode": {
    "name": "ipython",
    "version": 3
   },
   "file_extension": ".py",
   "mimetype": "text/x-python",
   "name": "python",
   "nbconvert_exporter": "python",
   "pygments_lexer": "ipython3",
   "version": "3.7.4"
  }
 },
 "nbformat": 4,
 "nbformat_minor": 1
}
